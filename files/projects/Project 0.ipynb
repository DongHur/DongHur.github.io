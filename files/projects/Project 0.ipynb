{
 "cells": [
  {
   "cell_type": "markdown",
   "metadata": {},
   "source": [
    "# Project 0 - Introduction to Python\n",
    "\n",
    "In this project, we will guide you through the basics of Python. We will be using Python 3 for all of these projects, and we recommend you use this kernel rather than Python 2 becuase the later version is slowly becoming outdated/discontinued."
   ]
  },
  {
   "cell_type": "markdown",
   "metadata": {},
   "source": [
    "## Table of Content:\n",
    "1. What is Python\n",
    "2. Expressions\n",
    "3. Structure\n",
    "4. Contorls"
   ]
  },
  {
   "cell_type": "markdown",
   "metadata": {},
   "source": [
    "## 1. What is Python?\n",
    "\n",
    "Python is a programming language that is arguable one of the most used language for data analysis apart from Matlab and R. Unlike Matlab and R, Python does not come with a lot of built in packages and functions. However, Python does allow you to easily install and import external packages, giving you the flexibility to use other's code with little effort. Python is also an open-source programming language, allowing people to program without any cost and use packages for free! Lastly, Python has many packages for machine learning, data visualization, and statistical analysis growing by the day with a very active community to help you with any questions. Learning this general-purpose programming language will serve you well as you go into the field of research and tech jobs (particular data-science).\n",
    "\n",
    "We will go through the basics of Python in this project, and by the next project you should be comfortable with writing simple scripts."
   ]
  },
  {
   "cell_type": "markdown",
   "metadata": {},
   "source": [
    "## 2. Python Expressions"
   ]
  },
  {
   "cell_type": "markdown",
   "metadata": {},
   "source": [
    "### 2.1 Numbers\n",
    "There are 3 types of numbers: integers, float, complex"
   ]
  },
  {
   "cell_type": "code",
   "execution_count": 2,
   "metadata": {},
   "outputs": [
    {
     "data": {
      "text/plain": [
       "(2+1j)"
      ]
     },
     "execution_count": 2,
     "metadata": {},
     "output_type": "execute_result"
    }
   ],
   "source": [
    "# integers\n",
    "1\n",
    "-1\n",
    "# float\n",
    "3.14\n",
    "2.71\n",
    "# complex\n",
    "2+1j"
   ]
  },
  {
   "cell_type": "markdown",
   "metadata": {},
   "source": [
    "### 2.2 Strings\n",
    "Strings are pretty straightforward"
   ]
  },
  {
   "cell_type": "code",
   "execution_count": 8,
   "metadata": {},
   "outputs": [
    {
     "data": {
      "text/plain": [
       "'Hello'"
      ]
     },
     "execution_count": 8,
     "metadata": {},
     "output_type": "execute_result"
    }
   ],
   "source": [
    "\"Hello\""
   ]
  },
  {
   "cell_type": "markdown",
   "metadata": {},
   "source": [
    "### 2.2 Boolean\n",
    "Booleans are also straightforward. Boolean types can only be one of two things: ```True``` or ```False```"
   ]
  },
  {
   "cell_type": "code",
   "execution_count": 41,
   "metadata": {},
   "outputs": [],
   "source": [
    "x = True\n",
    "y = False"
   ]
  },
  {
   "cell_type": "markdown",
   "metadata": {},
   "source": [
    "### 2.3 Variables\n",
    "You can store any values in variables for you to reference later. Get in the habit of creating good names for your variables because once the projects get bigger, there will be a lot of variables you will have to reference"
   ]
  },
  {
   "cell_type": "code",
   "execution_count": 1,
   "metadata": {},
   "outputs": [],
   "source": [
    "# bad names\n",
    "x1 = 1.3\n",
    "x1, y1 = 2, 3\n",
    "_i = 3.15\n",
    "# good names\n",
    "number_animals = 10"
   ]
  },
  {
   "cell_type": "markdown",
   "metadata": {},
   "source": [
    "### 2.4 Arithmetic Operations"
   ]
  },
  {
   "cell_type": "markdown",
   "metadata": {},
   "source": [
    "You can do simple arithmetics with values in variables or literal numbers. The two arithmetics notation that may be unintuitive is power and remainders. In Python, you can do simple power computation using ```**``` notation (Ex: 2^3 ==> ```2**3```). The other arithmetic is remainder, which you can do by using ```%``` (Ex: Remainder of 3/2 = 1,   ```3%2```). "
   ]
  },
  {
   "cell_type": "code",
   "execution_count": 3,
   "metadata": {},
   "outputs": [],
   "source": [
    "# add, subtract\n",
    "z1 = x + y\n",
    "z2 = x - y\n",
    "# multiply, divide\n",
    "z3 = x * y\n",
    "z4 = x / y\n",
    "# power, remainders\n",
    "z3 = x ** y\n",
    "z4 = x % y"
   ]
  },
  {
   "cell_type": "markdown",
   "metadata": {},
   "source": [
    "### 2.5 Functions\n",
    "There are several built in function for Python. Look [here](https://docs.python.org/3/library/functions.html) to see the full list of all the built in function. One of the most used built-in function you will use is ``` print()```. This funciton will print (SURPRISE!) values inside of variables and other statements in the text stream below the cell you run the operation in. Down below is also an example of a new string formatting syntax if you ever want to print variables along with string statements."
   ]
  },
  {
   "cell_type": "code",
   "execution_count": 6,
   "metadata": {},
   "outputs": [
    {
     "name": "stdout",
     "output_type": "stream",
     "text": [
      "3\n",
      "2\n"
     ]
    }
   ],
   "source": [
    "z5 = abs(-3)\n",
    "z6 = round(2.4)\n",
    "print(z5)\n",
    "print(z6)"
   ]
  },
  {
   "cell_type": "code",
   "execution_count": 7,
   "metadata": {},
   "outputs": [
    {
     "name": "stdout",
     "output_type": "stream",
     "text": [
      "z5 = 3\n"
     ]
    }
   ],
   "source": [
    "print(f\"z5 = {z5}\")"
   ]
  },
  {
   "cell_type": "markdown",
   "metadata": {},
   "source": [
    "### 2.6 Python Modules\n",
    "Most of the time, you will be implementing your own functions or importing them from other modules. To import packages you will used the  ```import {module}```. One module that you installed with Anaconda is Numpy, a library for numerical arrays and mathematical function. Other modules are Matplotlib and SciPy. Note that not all modules were installed with Anaconda. You will have to separately install some pacakges using ```pip``` and ```conda```, which we will show you how to do when the time comes! For now, most of the packages you will use for the first few projects should come with Anaconda."
   ]
  },
  {
   "cell_type": "code",
   "execution_count": 9,
   "metadata": {},
   "outputs": [
    {
     "name": "stdout",
     "output_type": "stream",
     "text": [
      "1.7320508075688772\n"
     ]
    }
   ],
   "source": [
    "import numpy\n",
    "print(numpy.sqrt(3))"
   ]
  },
  {
   "cell_type": "code",
   "execution_count": 11,
   "metadata": {},
   "outputs": [
    {
     "name": "stdout",
     "output_type": "stream",
     "text": [
      "1.7320508075688772\n"
     ]
    }
   ],
   "source": [
    "# if you don't like the \"long\" names of modules you can set your own name\n",
    "import numpy as np\n",
    "print(np.sqrt(3))"
   ]
  },
  {
   "cell_type": "code",
   "execution_count": 12,
   "metadata": {},
   "outputs": [
    {
     "name": "stdout",
     "output_type": "stream",
     "text": [
      "1.7320508075688772\n"
     ]
    }
   ],
   "source": [
    "# maybe you want to import just specific functions within the numpy module\n",
    "from numpy import sqrt, exp\n",
    "print(sqrt(3))"
   ]
  },
  {
   "cell_type": "code",
   "execution_count": 13,
   "metadata": {},
   "outputs": [],
   "source": [
    "# '*' is a wildcard, which tells import command to grab everything in numpy\n",
    "# NOTE: we would not recommend this since you don't want ALL the functions within a module.\n",
    "#       It is good practice to only get the functions you need.\n",
    "from numpy import *"
   ]
  },
  {
   "cell_type": "markdown",
   "metadata": {},
   "source": [
    "## 3. Structure\n",
    "### 3.1 Objects\n",
    "In Python, EVERYTHING is an object (i.e. a combination of data and functions). Yeah! Even numbers (e.g. 1, 4, 6.7). Generally, objects will have attributes (data) and methods (spectialized functions for an object). You can even create your own object! First let me convince you that numbers are objects too by showing that it has a method of its own called ```is_integer```. Once you are convinced that everything is an object, lets create your own object called ```Student```"
   ]
  },
  {
   "cell_type": "code",
   "execution_count": 18,
   "metadata": {},
   "outputs": [
    {
     "data": {
      "text/plain": [
       "False"
      ]
     },
     "execution_count": 18,
     "metadata": {},
     "output_type": "execute_result"
    }
   ],
   "source": [
    "x = 3.14\n",
    "x.is_integer() # returns True/False depending on whether x is an integer"
   ]
  },
  {
   "cell_type": "code",
   "execution_count": 2,
   "metadata": {},
   "outputs": [
    {
     "name": "stdout",
     "output_type": "stream",
     "text": [
      "18\n",
      "18\n"
     ]
    }
   ],
   "source": [
    "# Create your own object\n",
    "class Student:\n",
    "    age = 18                   # attribute\n",
    "    def what_is_my_age(self):  # method\n",
    "        return self.age\n",
    "\n",
    "student = Student()            # created an instance of an object\n",
    "print(student.age)\n",
    "print(student.what_is_my_age())"
   ]
  },
  {
   "cell_type": "code",
   "execution_count": 4,
   "metadata": {},
   "outputs": [
    {
     "name": "stdout",
     "output_type": "stream",
     "text": [
      "John is 36 years old\n",
      "Susie is 20 years old\n"
     ]
    }
   ],
   "source": [
    "class Person:\n",
    "    def __init__(self, name, age): #__init__ function will be the first function to run\n",
    "        self.name = name\n",
    "        self.age = age\n",
    "\n",
    "p1 = Person(\"John\", 36)\n",
    "p2 = Person(\"Susie\", 20)\n",
    "print(f\"{p1.name} is {p1.age} years old\")\n",
    "print(f\"{p2.name} is {p2.age} years old\")\n",
    "# Note: The __init__() function is called automatically every time the class is being used to create a new object."
   ]
  },
  {
   "cell_type": "markdown",
   "metadata": {},
   "source": [
    "### 3.2 Lists, Tuples, and Arrays\n",
    "The beauty of computer is that you can compute everything in batches. Therefore, we have lists, tuples, and arrays that puts numbers together and compute things in batches. Most of the time you will use Numpy Arrays, but knowing how to use lists and tuples will also be important later on. What's the difference?\n",
    "* **List:** list is mutable, as in you can change what is inside the list after you create it.\n",
    "* **Tuple:** tuple is immutable, as in you CANNOT change what is inside the list after you create it.\n",
    "* **Array:** array is mutable like list. It is essential a list but with added benefits like methods and quick search.\n",
    "Fun Fact: String is actually a tuple of char (```\"hello\"``` == ```('h','e','l','l','o')```). Therefore, once you create a string, you cannot change the string."
   ]
  },
  {
   "cell_type": "code",
   "execution_count": 9,
   "metadata": {},
   "outputs": [],
   "source": [
    "### Tuples\n",
    "x = (2,3,4)\n",
    "# x[1] = 6\n",
    "# x.append(4)"
   ]
  },
  {
   "cell_type": "code",
   "execution_count": 10,
   "metadata": {},
   "outputs": [],
   "source": [
    "### Strings\n",
    "x = \"hello\"\n",
    "# x[0] = 'c'"
   ]
  },
  {
   "cell_type": "code",
   "execution_count": 15,
   "metadata": {},
   "outputs": [],
   "source": [
    "### Lists\n",
    "x_list = [1,2,3]\n",
    "# x[0] = 5"
   ]
  },
  {
   "cell_type": "code",
   "execution_count": 17,
   "metadata": {},
   "outputs": [
    {
     "data": {
      "text/plain": [
       "(3,)"
      ]
     },
     "execution_count": 17,
     "metadata": {},
     "output_type": "execute_result"
    }
   ],
   "source": [
    "import numpy as np\n",
    "### Arrays\n",
    "x_array = np.array([1,2,3]) # just wrap a list with the np.array function\n",
    "x_array.shape               # arrays have attributes and methods lists do not\n",
    "# x_list.shape"
   ]
  },
  {
   "cell_type": "markdown",
   "metadata": {},
   "source": [
    "### 3.3 More Arrays\n",
    "When you create an array with a single row of numbers, that is just a one-dimensional array. What if you have an array of an array? Well, that creates a two-dimensional array, also called matrix. In general, we call any array with dimension higher than one a matrix. These high dimensional arrays are really where arrays shine over list."
   ]
  },
  {
   "cell_type": "code",
   "execution_count": 25,
   "metadata": {},
   "outputs": [
    {
     "name": "stdout",
     "output_type": "stream",
     "text": [
      "[0. 0. 0.]\n",
      "[1. 1. 1.]\n",
      "[0 2 4 6 8]\n"
     ]
    }
   ],
   "source": [
    "# one-dimensional arrays\n",
    "x = np.zeros(3)\n",
    "y = np.ones(3)\n",
    "z = np.arange(0,10,2)\n",
    "print(x)\n",
    "print(y)\n",
    "print(z)"
   ]
  },
  {
   "cell_type": "code",
   "execution_count": 22,
   "metadata": {},
   "outputs": [
    {
     "name": "stdout",
     "output_type": "stream",
     "text": [
      "[[0. 0. 0.]\n",
      " [0. 0. 0.]\n",
      " [0. 0. 0.]]\n",
      "[[1. 1. 1.]\n",
      " [1. 1. 1.]\n",
      " [1. 1. 1.]]\n"
     ]
    }
   ],
   "source": [
    "# matrix\n",
    "x = np.zeros((3,3))\n",
    "y = np.ones((3,3))\n",
    "print(x)\n",
    "print(y)"
   ]
  },
  {
   "cell_type": "markdown",
   "metadata": {},
   "source": [
    "Wait! If arrays are mutable, then shouldn't we be able to edit these arrays/matrix? YES! This is how you can access specific numbers or slice of numbers:\n",
    "\n",
    "**Note: In Python, everything starts with index 0**"
   ]
  },
  {
   "cell_type": "code",
   "execution_count": 27,
   "metadata": {},
   "outputs": [
    {
     "name": "stdout",
     "output_type": "stream",
     "text": [
      "[0 1 2 3 4 5 6 7 8 9]\n",
      "2\n"
     ]
    }
   ],
   "source": [
    "z = np.arange(0,10,1)\n",
    "print(z)\n",
    "print(z[2])        # index to the 3 element in array z"
   ]
  },
  {
   "cell_type": "code",
   "execution_count": 40,
   "metadata": {},
   "outputs": [
    {
     "name": "stdout",
     "output_type": "stream",
     "text": [
      "[[2 4 1]\n",
      " [0 4 1]\n",
      " [3 1 1]]\n",
      "[2 4 1]\n",
      "[2 0 3]\n",
      "[[0 0 0]\n",
      " [0 4 1]\n",
      " [3 1 1]]\n"
     ]
    }
   ],
   "source": [
    "z_rand = np.random.randint(5, size=(3,3))\n",
    "print(z_rand)\n",
    "print(z_rand[0,:])\n",
    "print(z_rand[:,0])\n",
    "z_rand[0,:] = 0    # LOOK! arrays are mutable\n",
    "print(z_rand)"
   ]
  },
  {
   "cell_type": "markdown",
   "metadata": {},
   "source": [
    "## 4. Controls\n",
    "Everything we have learned is great, but if we are going do simple one line computation, then we could just use a calculator. The real power of computers are their ability to compute many different instructions depending on various condition. This is where logic comes in, allowing you to automate certain task and compute things that would take years to do with you own hand. Here you will learn ```if```, ```for```, and ```while``` statements"
   ]
  },
  {
   "cell_type": "markdown",
   "metadata": {},
   "source": [
    "### 4.1: if statements\n",
    "You use ```if``` statements if you want certain block of code to run only under certain conditions. If the condition is not met, you can run another block of code using ```else``` statement. For example:\n",
    "\n",
    "**Note: the else statemnt must follow the if statement**"
   ]
  },
  {
   "cell_type": "code",
   "execution_count": 44,
   "metadata": {},
   "outputs": [
    {
     "name": "stdout",
     "output_type": "stream",
     "text": [
      "x is less than 3\n",
      "y is not greater than 5\n"
     ]
    }
   ],
   "source": [
    "x = 2\n",
    "y = 3\n",
    "if x < 3:\n",
    "    print(\"x is less than 3\")\n",
    "if y > 5:\n",
    "    print(\"y is greater than 5\")\n",
    "else:\n",
    "    print(\"y is not greater than 5\")"
   ]
  },
  {
   "cell_type": "markdown",
   "metadata": {},
   "source": [
    "### 4.2: for statements\n",
    "```for``` loops allow you to iterate over a block of code so that you don't have to copy and paste the code multiple times. This is very useful when working with arrays as you will see below."
   ]
  },
  {
   "cell_type": "code",
   "execution_count": 45,
   "metadata": {
    "scrolled": true
   },
   "outputs": [
    {
     "name": "stdout",
     "output_type": "stream",
     "text": [
      "imagine having to write this print statment 10 times!\n",
      "imagine having to write this print statment 10 times!\n",
      "imagine having to write this print statment 10 times!\n",
      "imagine having to write this print statment 10 times!\n",
      "imagine having to write this print statment 10 times!\n",
      "imagine having to write this print statment 10 times!\n",
      "imagine having to write this print statment 10 times!\n",
      "imagine having to write this print statment 10 times!\n",
      "imagine having to write this print statment 10 times!\n",
      "imagine having to write this print statment 10 times!\n"
     ]
    }
   ],
   "source": [
    "for i in range(10):\n",
    "    print(\"imagine having to write this print statment 10 times!\")"
   ]
  },
  {
   "cell_type": "code",
   "execution_count": 49,
   "metadata": {},
   "outputs": [
    {
     "name": "stdout",
     "output_type": "stream",
     "text": [
      "[1 2 3 4 5 6 7 8 9]\n",
      "1\n",
      "2\n",
      "3\n",
      "4\n",
      "5\n",
      "6\n",
      "7\n",
      "8\n",
      "9\n"
     ]
    }
   ],
   "source": [
    "x_array = np.arange(1,10)\n",
    "print(x_array)\n",
    "for x in x_array:\n",
    "    print(x)"
   ]
  },
  {
   "cell_type": "markdown",
   "metadata": {},
   "source": [
    "### 4.3: while statements\n",
    "```for``` loop is great if you know when the loop should end. However, sometimes you may want a certain block of code to run until you get a certain output:"
   ]
  },
  {
   "cell_type": "code",
   "execution_count": 51,
   "metadata": {},
   "outputs": [
    {
     "name": "stdout",
     "output_type": "stream",
     "text": [
      "5\n",
      "4\n",
      "3\n",
      "2\n",
      "1\n"
     ]
    }
   ],
   "source": [
    "x = 5\n",
    "while x > 0:\n",
    "    print(x)\n",
    "    x = x - 1\n",
    "    # keeps iterating over this block of code until x is greater than 0"
   ]
  },
  {
   "cell_type": "markdown",
   "metadata": {},
   "source": [
    "<hr>\n",
    "<center><h1>Reference</h1></center>\n",
    "\n",
    "* \"A Student's Guide to Python for Physical Modeling\" - Jesse Kinder and Philip Nelson"
   ]
  },
  {
   "cell_type": "code",
   "execution_count": null,
   "metadata": {},
   "outputs": [],
   "source": []
  }
 ],
 "metadata": {
  "kernelspec": {
   "display_name": "Python 3",
   "language": "python",
   "name": "python3"
  },
  "language_info": {
   "codemirror_mode": {
    "name": "ipython",
    "version": 3
   },
   "file_extension": ".py",
   "mimetype": "text/x-python",
   "name": "python",
   "nbconvert_exporter": "python",
   "pygments_lexer": "ipython3",
   "version": "3.7.3"
  }
 },
 "nbformat": 4,
 "nbformat_minor": 4
}
